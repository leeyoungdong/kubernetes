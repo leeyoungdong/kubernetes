{
  "nbformat": 4,
  "nbformat_minor": 0,
  "metadata": {
    "colab": {
      "provenance": []
    },
    "kernelspec": {
      "name": "python3",
      "display_name": "Python 3"
    },
    "language_info": {
      "name": "python"
    }
  },
  "cells": [
    {
      "cell_type": "markdown",
      "source": [
        "# **ConfigMap이란?**"
      ],
      "metadata": {
        "id": "IKAtp4E9JN2K"
      }
    },
    {
      "cell_type": "markdown",
      "source": [
        "* 컨피그맵은 키-값 쌍으로 기밀이 아닌 데이터를 저장하는 데 사용하는 API 오브젝트\n",
        "*  [파드](https://kubernetes.io/ko/docs/concepts/workloads/pods/)는 [볼륨](https://kubernetes.io/ko/docs/concepts/storage/volumes/)에서 환경 변수, 커맨드-라인 인수 또는 구성 파일로 컨피그맵을 사용할 수 있다.\n",
        "\n",
        "* 컨피그맵을 사용하면 [컨테이너 이미지](https://kubernetes.io/ko/docs/reference/glossary/?all=true#term-image)에서 환경별 구성을 분리하여, 애플리케이션을 쉽게 이식."
      ],
      "metadata": {
        "id": "KzW8lCXPJN0a"
      }
    },
    {
      "cell_type": "markdown",
      "source": [
        "### ConfigMap 생성하기\n",
        "\n",
        "**yml파일로 생성하기**\n",
        "\n",
        "`config-map.yaml`파일 작성.\n",
        "\n",
        "```yaml\n",
        "apiVersion: v1\n",
        "kind: ConfigMap\n",
        "metadata:\n",
        "  name: my-config\n",
        "data:\n",
        "  hello: world\n",
        "  kuber: netes\n",
        "  multiline: |-\n",
        "    first\n",
        "    second\n",
        "    third\n",
        "```\n",
        "\n",
        "파일 작성 후 명령어를 실행.\n",
        "\n",
        "```yaml\n",
        "# configmap 생성\n",
        "kubectl apply -f config.yaml\n",
        "```"
      ],
      "metadata": {
        "id": "ab7MQzaFJNyL"
      }
    },
    {
      "cell_type": "markdown",
      "source": [
        "**env파일로 생성하기**\n",
        "\n",
        "env포멧으로 해서 config-env.yml을 생성.\n",
        "\n",
        "```yaml\n",
        "hello=world\n",
        "haha=hoho\n",
        "```\n",
        "\n",
        "생성 후, 다음 명령어를 통해 확인.\n",
        "\n",
        "```bash\n",
        "# env 포멧으로 생성\n",
        "kubectl create cm env-config --from-env-file=config-env.yml\n",
        "\n",
        "# env-config 조회\n",
        "kubectl describe cm/env-config\n",
        "```\n"
      ],
      "metadata": {
        "id": "hVsYnJnrJNv6"
      }
    },
    {
      "cell_type": "markdown",
      "source": [
        "**생성된 ConfigMap 사용하기 - 환경변수로 사용하기**\n",
        "\n",
        "alpine-env.yaml 생성\n",
        "\n",
        "```yaml\n",
        "apiVersion: v1\n",
        "kind: Pod\n",
        "metadata:\n",
        "  name: alpine-env\n",
        "spec:\n",
        "  containers:\n",
        "    - name: alpine-env\n",
        "      image: alpine\n",
        "      command: [\"sleep\"]\n",
        "      args: [\"100000\"]\n",
        "      env:\n",
        "        - name: hello\n",
        "          valueFrom:\n",
        "            configMapKeyRef:\n",
        "              name: my-config\n",
        "              key: hello\n",
        "```\n",
        "\n",
        "**생성된 ConfigMap 사용하기 - volume에 연결하기**\n",
        "\n",
        "alpine-volume.yaml 생성\n",
        "\n",
        "```yaml\n",
        "apiVersion: v1\n",
        "kind: Pod\n",
        "metadata:\n",
        "  name: alpine-volume\n",
        "spec:\n",
        "  containers:\n",
        "    - name: alpine-volume\n",
        "      image: alpine\n",
        "      command: [\"sleep\"]\n",
        "      args: [\"100000\"]\n",
        "      volumeMounts:\n",
        "        - name: config-vol\n",
        "          mountPath: /etc/config\n",
        "  volumes:\n",
        "    - name: config-vol\n",
        "      configMap:\n",
        "        name: my-config\n",
        "```\n",
        "\n",
        "**ConfigMap 확인해보기**\n",
        "\n",
        "```yaml\n",
        "# alpine 적용\n",
        "kubectl apply -f alpine.yaml\n",
        "\n",
        "# 적용내용 확인\n",
        "kubectl exec -it alpine -- cat /etc/config/multiline\n",
        "```\n"
      ],
      "metadata": {
        "id": "U629rKtlJNtb"
      }
    }
  ]
}