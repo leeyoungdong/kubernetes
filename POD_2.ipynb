{
  "nbformat": 4,
  "nbformat_minor": 0,
  "metadata": {
    "colab": {
      "provenance": []
    },
    "kernelspec": {
      "name": "python3",
      "display_name": "Python 3"
    },
    "language_info": {
      "name": "python"
    }
  },
  "cells": [
    {
      "cell_type": "markdown",
      "source": [
        "# **Pod 생성**"
      ],
      "metadata": {
        "id": "CBigX1EkjUkR"
      }
    },
    {
      "cell_type": "markdown",
      "source": [
        "Pod 생성은 yaml파일로 생성성한다.\n",
        "\n",
        "```\n",
        "# 이 디스크립터는 k8s API v1을 사용\n",
        "apiVersion: v1\n",
        "# 리소스 종류: Pod\n",
        "kind: Pod\n",
        "# Pod의 정보\n",
        "metadata:\n",
        "  # Pod 명\n",
        "  name: http-go\n",
        "spec:\n",
        "  containers:\n",
        "  # Container 정보\n",
        "  - name: http-go\n",
        "    image: healinyoon/http-go\n",
        "    ports:\n",
        "    # 응답 대기할 애플리케이션 Port\n",
        "    - containerPort: 8080\n",
        "      protocol: TCP\n",
        "\n",
        "```\n",
        "\n"
      ],
      "metadata": {
        "id": "A3oRh7GmjWse"
      }
    },
    {
      "cell_type": "markdown",
      "source": [
        "**Pod YAML 구성요소**\n",
        "\n",
        "* Pod YAML은 apiVersion, kind, metadata, spec, status 등의 오브젝트로 구성.\n",
        "* apiVersion: k8s API의 버전을 가리킴.\n",
        "* kind: 어떤 리소스 유형(Pod, ReplicaSet, Service, Deployment 등)인지 결정.\n",
        "* metadata: Pod와 관련된 정보(이름, Namespace, Label 등)가 존재.\n",
        "* spec: Pod내의 Container와 Container의 Volume 등의 정보가 존재.\n",
        "* status: Pod의 상태, 각 Container의 설명 및 상태, Pod 내부의 IP 및 그 밖의 기본 정보 등이 존재.\n",
        "* status는 k8s 자동 확인."
      ],
      "metadata": {
        "id": "9sMlijrokTEH"
      }
    },
    {
      "cell_type": "markdown",
      "source": [
        "**최대 / 최소 자원 요구량 설정 yaml파일**\n",
        "\n",
        "* pod의 spec.containers[].resources 에 4개 정보를 설정해야 한다.\n",
        "\n",
        "* requests와 limits 이라는 항목이 있으며, 각각 cpu, memory 값을 설정할수 있다.\n",
        "\n",
        "```\n",
        "apiVersion: v1\n",
        "kind: Pod\n",
        "metadata:\n",
        "  name: kubernetes-simple-pod\n",
        "  labels:\n",
        "    app: kubernetes-simple-pod\n",
        "spec:\n",
        "  containers:\n",
        "  - name: kubernetes-simple-pod\n",
        "    image: nginx:latest\n",
        "    resources:\n",
        "      requests:\n",
        "        cpu: 0.1\n",
        "        memory: 200M\n",
        "      limits:\n",
        "        cpu: 0.5\n",
        "        memory: 1G\n",
        "    ports:\n",
        "    - containerPort: 80\n",
        "```\n",
        "\n"
      ],
      "metadata": {
        "id": "Ddr_YddMn3aC"
      }
    },
    {
      "cell_type": "markdown",
      "source": [
        "**Pod 명령어**\n",
        "\n",
        "```\n",
        "작성한 Pod YAML 실행\n",
        "$ kubectl create -f {YAML 파일명}\n",
        "실행한 Pod 조회\n",
        "$ kubectl get pod\n",
        "# Pod에 정의된 yaml 읽기기\n",
        "$ kubectl get pod {Pod 명} -o yaml\n",
        "실행 중인 Pod 로그 읽기\n",
        "$ kubectl logs {Pod 명}\n",
        "실행 중인 Pod 삭제\n",
        "$ kubectl delete pod {Pod 명}\n",
        "실행 중인 모든 Pod 삭제\n",
        "$ kubectl delete pod --all\n",
        "```\n",
        "\n"
      ],
      "metadata": {
        "id": "phxJPsjxj6od"
      }
    },
    {
      "cell_type": "markdown",
      "source": [
        "**Container에서 Host로 port-forwarding**\n",
        "\n",
        "* 디버깅 혹은 다른 이유로 Service 리소스를 거치지 않고 특정 Pod와 통신하고 싶을 때 사용.\n",
        "\n",
        "* kubectl port-forward 명령으로 수행\n",
        "\n",
        "* 예시: Container 8888 port -> Pod 8080 port로 전달\n",
        "\n",
        "\n",
        "\n",
        "```\n",
        "$ kubectl port-forward {Pod 명} {Container Port}:{Pod port}\n",
        "\n",
        "$ kubectl port-forward http-go 8888:8080\n",
        "\n",
        "-> curl로 확인\n",
        "$ curl 127.0.0.1:8888\n",
        "```\n",
        "\n"
      ],
      "metadata": {
        "id": "S-pquQ4HnMLq"
      }
    },
    {
      "cell_type": "markdown",
      "source": [
        "**Pod에 주석**\n",
        "\n",
        "* 각 Pod나 API 객체에 주석을 추가 가능.\n",
        "* Cluster를 사용하는 모든 사람이 각 오브젝트의 정보를 빠르게 파악 가능.\n",
        "* 예를 들면 오브젝트를 생성한 사람의 이름을 지정\n",
        "* 공동 작업이 가능하게 한다.\n",
        "* 총 256KB까지 포함 가능하다.\n",
        "**주석 추가 방법**\n",
        "\n",
        "\n",
        "```\n",
        "주석 추가\n",
        "$ kubectl annotate pod {Pod 명} key=\"value\"\n",
        "주석 확인\n",
        "$ kubectl get pod {Pod 명} -o yaml\n",
        "예시\n",
        "$ kubectl annotate pod http-go-5c6f458dc9-m97w8 test=\"test1234\"\n",
        "pod/http-go-5c6f458dc9-m97w8 annotated\n",
        "\n",
        "$ kubectl get pod http-go-5c6f458dc9-m97w8 -o yaml\n",
        "apiVersion: v1\n",
        "kind: Pod\n",
        "metadata:\n",
        "  annotations:\n",
        "    test: test1234\n",
        "  creationTimestamp: \"2020-09-14T04:48:10Z\"\n",
        "  generateName: http-go-5c6f458dc9-\n",
        "Footer\n",
        "```\n"
      ],
      "metadata": {
        "id": "NFMSh-zznXXb"
      }
    }
  ]
}