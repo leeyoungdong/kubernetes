{
  "nbformat": 4,
  "nbformat_minor": 0,
  "metadata": {
    "colab": {
      "provenance": []
    },
    "kernelspec": {
      "name": "python3",
      "display_name": "Python 3"
    },
    "language_info": {
      "name": "python"
    }
  },
  "cells": [
    {
      "cell_type": "markdown",
      "source": [
        "# **도커-복습-3**"
      ],
      "metadata": {
        "id": "l2kYs2GvN_bY"
      }
    },
    {
      "cell_type": "markdown",
      "source": [
        "**도커 이미지**\n",
        "\n",
        "**도커 이미지 생성**\n",
        "\n",
        "```bash\n",
        "docker run -it --name commit_test ubuntu:22.04\n",
        "\n",
        " 컨테이너 내부에서 \n",
        "echo test_first! >> first\n",
        "```\n",
        "\n",
        "- docker commit [OPTIONS]  container [REPOSITORY[:TAG]]\n",
        "\n",
        "```bash\n",
        "docker commit -a \"alicek106\" -m \"my first commit\" commit_test commit_test:first\n",
        "\n",
        "# -a 옵션은 author \n",
        "```\n",
        "\n",
        "**이미지 구조 이해**\n",
        "\n",
        "- 이미지를 커밋할 때 컨테이너에서 변경된 사항만 새로운 레이어로 저장한다.\n",
        "\n",
        "- 이미지의 레이어 구조는 `docker history` 명령을 통해 좀 더 쉽게 확인할 수 있다.\n",
        "\n",
        "```bash\n",
        "docker history commit_test:first\n",
        "```\n",
        "\n",
        "- 삭제되는 이미지의 부모 이미지가 존재하지 않아야만 해당 이미지의 파일이 실제로 삭제된다.\n",
        "\n",
        "**이미지 추출**\n",
        "\n",
        "- `docker save` 명령어를 사용해서 파일로 추출 또는 로드 가능\n",
        "\n",
        "```bash\n",
        "docker save -o ubuntu_22_04.tar ubuntu:22.04\n",
        "\n",
        "docker load -i ubuntu_22_04.tar\n",
        "```\n",
        "\n",
        "- docker save & docker load : docker image를 tar 파일로 추출하고 로드하는 역할로 이미지에 변경이 있지 않은 오리지널 이미지와 동일하다.\n",
        "- docker export & docker import : docker container를 tar 파일로 추출하고 로드하는 역할로 오리지널 이미지를 아카이빙하여 `하나의 layer`로 저장된 이미지를 생성한다.\n",
        "- **이미지를 단일 파일로 저장하는 것은 효율적인 방법이 아니다.**\n",
        "    - 추출된 이미지는 레이어 구조의 파일이 아닌 단일 파일이기 때문에 여러 버전의 이미지를 추출하면 이미지 용량을 각기 차지한다.\n",
        "\n",
        "**이미지 배포**\n",
        "\n",
        "- 위에서 만든 이미지에 태그 달기\n",
        "    - tag 명령어로 이미지의 이름을 변경했다고 해서 기존의 이름이 사라지는 것은 아니며, 같은 이미지를 가리키는 새로운 이름을 추가할 뿐이다.\n",
        "\n",
        "```bash\n",
        "docker tag commit_test:first bingbingpa/test-repo:0.0\n",
        "\n",
        "# 배포\n",
        "docker push bingbingpa/test-repo:0.0\n",
        "```\n",
        "\n",
        "- 저장소 webhook\n",
        "    - 저장소에 이미지가 push 됐을 때 특정 URL 로 http 요청을 전송하도록 설정할 수 있다.\n",
        "\n",
        "**도커 사설 레지스트리**\n",
        "\n",
        "- 사설 레지스트리 컨테이너 생성\n",
        "    - 도커 사설 레지스트리를 사용하면 개인 서버에 이미지를 저장할 수 있는 저장소를 만들 수 있다.\n",
        "    - 이 레지스트리는 컨테이너로서 구현되므로 이에 해당하는 도커 이미지가 존재한다.\n",
        "    \n",
        "    ```bash\n",
        "    docker run -d --name myregistry -p 5000:5000 registry:2.6\n",
        "    \n",
        "    # 정상 구동되었는데 레지스트리 컨테이너의 rest api call test\n",
        "    curl localhost:5000/v2/\n",
        "    ```\n",
        "    \n",
        "- 사설 레지스트리에 이미지 push 하기\n",
        "    -\n",
        "    ```bash\n",
        "    docker tag commit_test:first 172.17.0.3:5000/my-image-name:0.0\n",
        "\n",
        "    # https 관련 오류 발생한다. \n",
        "    # docker 옵션 변경해주기 \n",
        "    sudo vim /etc/default/docker \n",
        "\n",
        "    # 이 옵션 추가하고 재시작\n",
        "    DOCKER_OPTS=\"--insecure-registry=172.17.0.3:5000\"\n",
        "    ```"
      ],
      "metadata": {
        "id": "MC7c3IoBIYJL"
      }
    }
  ]
}